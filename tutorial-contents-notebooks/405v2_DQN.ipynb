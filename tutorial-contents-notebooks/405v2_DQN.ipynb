{
 "cells": [
  {
   "cell_type": "markdown",
   "metadata": {},
   "source": [
    "# 405 DQN Reinforcement Learning V2"
   ]
  },
  {
   "cell_type": "code",
   "execution_count": 1,
   "metadata": {},
   "outputs": [],
   "source": [
    "import torch\n",
    "import torch.nn as nn \n",
    "from torch.autograd import Variable\n",
    "import torch.nn.functional as F\n",
    "import numpy as np\n",
    "import gym"
   ]
  },
  {
   "cell_type": "code",
   "execution_count": 2,
   "metadata": {},
   "outputs": [],
   "source": [
    "# Hyper Parameters\n",
    "BATCH_SIZE = 32\n",
    "LR = 0.01\n",
    "EPSILON = 0.9\n",
    "GAMMA = 0.9\n",
    "TARGET_REPLACE_ITER = 100\n",
    "MEMORY_CAPACITY = 2000\n",
    "env = gym.make('CartPole-v0')\n",
    "env = env.unwrapped\n",
    "N_ACTIONS = env.action_space.n \n",
    "N_STATES = env.observation_space.shape[0]"
   ]
  },
  {
   "cell_type": "code",
   "execution_count": 3,
   "metadata": {},
   "outputs": [],
   "source": [
    "class Net(nn.Module):\n",
    "    def __init__(self):\n",
    "        super(Net, self).__init__()\n",
    "        self.fc1 = nn.Linear(N_STATES, 10)\n",
    "        self.fc1.weight.data.normal_(0, 0.1)\n",
    "        self.out = nn.Linear(10, N_ACTIONS)\n",
    "        self.out.weight.data.normal_(0, 0.1)\n",
    "    \n",
    "    def forward(self, x):\n",
    "        x = self.fc1(x)\n",
    "        x = F.relu(x)\n",
    "        actions_value = self.out(x)\n",
    "        return actions_value"
   ]
  },
  {
   "cell_type": "code",
   "execution_count": 4,
   "metadata": {},
   "outputs": [],
   "source": [
    "net = Net()\n",
    "actions_value = net.forward(Variable(torch.randn(8, N_STATES)))"
   ]
  },
  {
   "cell_type": "code",
   "execution_count": 5,
   "metadata": {},
   "outputs": [
    {
     "data": {
      "text/plain": [
       "tensor([[0.1705, 0.0082],\n",
       "        [0.1895, 0.0391],\n",
       "        [0.2014, 0.0339],\n",
       "        [0.2134, 0.0029],\n",
       "        [0.1751, 0.0395],\n",
       "        [0.1325, 0.0062],\n",
       "        [0.1999, 0.0111],\n",
       "        [0.1340, 0.0089]], grad_fn=<AddmmBackward0>)"
      ]
     },
     "execution_count": 5,
     "metadata": {},
     "output_type": "execute_result"
    }
   ],
   "source": [
    "actions_value"
   ]
  },
  {
   "cell_type": "code",
   "execution_count": 6,
   "metadata": {},
   "outputs": [],
   "source": [
    "class DQN(object):\n",
    "    def __init__(self):\n",
    "        self.eval_net, self.target_net = Net(), Net()\n",
    "        self.learn_step_counter = 0\n",
    "        self.memory_counter = 0\n",
    "        self.memory = np.zeros((MEMORY_CAPACITY, N_STATES * 2 + 2))\n",
    "        self.optimizer = torch.optim.Adam(self.eval_net.parameters(), lr=LR)\n",
    "        self.loss_func = nn.MSELoss()\n",
    "        \n",
    "    def choose_action(self, x):\n",
    "        x = torch.unsqueeze(torch.FloatTensor(x), 0)\n",
    "        if np.random.uniform() < EPSILON:\n",
    "            actions_value = self.eval_net.forward(x)\n",
    "            action = torch.max(actions_value, 1)[1].data.numpy()\n",
    "            action = action[0]\n",
    "            ## TODO: WHY\n",
    "        else:\n",
    "            action = np.random.randint(0, N_ACTIONS)\n",
    "        return action\n",
    "    \n",
    "    def store_transition(self, s, a, r, s_):\n",
    "        transition = np.hstack((s, [a, r], s_))\n",
    "        index = self.memory_counter % MEMORY_CAPACITY\n",
    "        self.memory[index, :] = transition\n",
    "        self.memory_counter += 1\n",
    "        \n",
    "    def learn(self):\n",
    "        if self.learn_step_counter % TARGET_REPLACE_ITER == 0:\n",
    "            print(\"Replace Learning: \", self.learn_step_counter)\n",
    "            self.target_net.load_state_dict(self.eval_net.state_dict()) ## TODO: WHY\n",
    "        self.learn_step_counter += 1\n",
    "        \n",
    "        sample_index = np.random.choice(MEMORY_CAPACITY, BATCH_SIZE)\n",
    "        b_memory = self.memory[sample_index, :]\n",
    "        b_s = Variable(torch.FloatTensor(b_memory[:, :N_STATES]))\n",
    "        b_a = Variable(torch.LongTensor(b_memory[:, N_STATES:N_STATES+1].astype(int)))\n",
    "        b_r = Variable(torch.FloatTensor(b_memory[:, N_STATES+1:N_STATES+2]))\n",
    "        b_s_ = Variable(torch.FloatTensor(b_memory[:, -N_STATES:]))\n",
    "        \n",
    "        q_eval = self.eval_net(b_s).gather(1, b_a)\n",
    "        q_next = self.target_net(b_s_).detach()\n",
    "        q_target = b_r + GAMMA * q_next.max(1)[0]\n",
    "        loss = self.loss_func(q_eval, q_target)\n",
    "        \n",
    "        self.optimizer.zero_grad()\n",
    "        loss.backward()\n",
    "        self.optimizer.step()\n",
    "        \n",
    "            "
   ]
  },
  {
   "cell_type": "code",
   "execution_count": 7,
   "metadata": {},
   "outputs": [],
   "source": [
    "dqn = DQN()"
   ]
  },
  {
   "cell_type": "code",
   "execution_count": 8,
   "metadata": {},
   "outputs": [
    {
     "name": "stdout",
     "output_type": "stream",
     "text": [
      "\n",
      "Collecting experience...\n"
     ]
    },
    {
     "name": "stderr",
     "output_type": "stream",
     "text": [
      "c:\\Users\\29468\\anaconda3\\lib\\site-packages\\torch\\nn\\modules\\loss.py:530: UserWarning: Using a target size (torch.Size([32, 32])) that is different to the input size (torch.Size([32, 1])). This will likely lead to incorrect results due to broadcasting. Please ensure they have the same size.\n",
      "  return F.mse_loss(input, target, reduction=self.reduction)\n",
      "c:\\Users\\29468\\anaconda3\\lib\\site-packages\\torch\\nn\\modules\\loss.py:530: UserWarning: Using a target size (torch.Size([32, 32])) that is different to the input size (torch.Size([32, 1])). This will likely lead to incorrect results due to broadcasting. Please ensure they have the same size.\n",
      "  return F.mse_loss(input, target, reduction=self.reduction)\n"
     ]
    },
    {
     "name": "stdout",
     "output_type": "stream",
     "text": [
      "Ep:  202 | Ep_r:  2.35\n",
      "Ep:  203 | Ep_r:  2.62\n",
      "Ep:  204 | Ep_r:  3.11\n",
      "Ep:  205 | Ep_r:  1.51\n",
      "Ep:  206 | Ep_r:  2.59\n",
      "Ep:  207 | Ep_r:  2.07\n",
      "Ep:  208 | Ep_r:  1.18\n",
      "Ep:  209 | Ep_r:  1.86\n",
      "Ep:  210 | Ep_r:  3.82\n",
      "Ep:  211 | Ep_r:  2.91\n",
      "Ep:  212 | Ep_r:  3.92\n",
      "Ep:  213 | Ep_r:  2.85\n",
      "Ep:  214 | Ep_r:  1.21\n",
      "Ep:  215 | Ep_r:  1.87\n",
      "Ep:  216 | Ep_r:  2.82\n",
      "Ep:  217 | Ep_r:  3.04\n",
      "Ep:  218 | Ep_r:  2.86\n",
      "Ep:  219 | Ep_r:  1.21\n",
      "Ep:  220 | Ep_r:  2.37\n",
      "Ep:  221 | Ep_r:  2.87\n",
      "Ep:  222 | Ep_r:  2.46\n",
      "Ep:  223 | Ep_r:  3.59\n",
      "Ep:  224 | Ep_r:  2.5\n",
      "Ep:  225 | Ep_r:  2.37\n",
      "Ep:  226 | Ep_r:  2.16\n",
      "Ep:  227 | Ep_r:  1.25\n",
      "Ep:  228 | Ep_r:  1.23\n",
      "Ep:  229 | Ep_r:  1.93\n",
      "Ep:  230 | Ep_r:  4.69\n",
      "Ep:  231 | Ep_r:  2.95\n",
      "Ep:  232 | Ep_r:  0.96\n",
      "Ep:  233 | Ep_r:  1.06\n",
      "Ep:  234 | Ep_r:  2.51\n",
      "Ep:  235 | Ep_r:  3.14\n",
      "Ep:  236 | Ep_r:  4.22\n",
      "Ep:  237 | Ep_r:  3.03\n",
      "Ep:  238 | Ep_r:  3.13\n",
      "Ep:  239 | Ep_r:  2.33\n",
      "Ep:  240 | Ep_r:  3.1\n",
      "Ep:  241 | Ep_r:  3.09\n",
      "Ep:  242 | Ep_r:  1.22\n",
      "Ep:  243 | Ep_r:  3.07\n",
      "Ep:  244 | Ep_r:  2.4\n",
      "Ep:  245 | Ep_r:  1.17\n",
      "Ep:  246 | Ep_r:  2.32\n",
      "Ep:  247 | Ep_r:  2.73\n",
      "Ep:  248 | Ep_r:  1.12\n",
      "Ep:  249 | Ep_r:  2.95\n",
      "Ep:  250 | Ep_r:  2.8\n",
      "Ep:  251 | Ep_r:  2.96\n",
      "Ep:  252 | Ep_r:  2.21\n",
      "Ep:  253 | Ep_r:  3.01\n",
      "Ep:  254 | Ep_r:  2.76\n",
      "Ep:  255 | Ep_r:  1.97\n",
      "Ep:  256 | Ep_r:  2.11\n",
      "Ep:  257 | Ep_r:  1.26\n",
      "Ep:  258 | Ep_r:  2.83\n",
      "Ep:  259 | Ep_r:  3.3\n",
      "Ep:  260 | Ep_r:  3.22\n",
      "Ep:  261 | Ep_r:  1.26\n",
      "Ep:  262 | Ep_r:  1.05\n"
     ]
    }
   ],
   "source": [
    "print(\"\\nCollecting experience...\")\n",
    "for i_episode in range(400):\n",
    "    s = env.reset()\n",
    "    ep_r = 0\n",
    "    while True:\n",
    "        env.render()\n",
    "        a = dqn.choose_action(s)\n",
    "        \n",
    "        s_, r, done, info = env.step(a)\n",
    "        \n",
    "        # modify the reward\n",
    "        x, x_dot, theta, theta_dot = s_\n",
    "        r1 = (env.x_threshold - abs(x)) / env.x_threshold - 0.8\n",
    "        r2 = (env.theta_threshold_radians - abs(theta)) / env.theta_threshold_radians - 0.5\n",
    "        r = r1 + r2\n",
    "        \n",
    "        dqn.store_transition(s, a, r, s_)\n",
    "        \n",
    "        ep_r += r\n",
    "        if dqn.memory_counter > MEMORY_CAPACITY:\n",
    "            dqn.learn()\n",
    "            if done:\n",
    "                print('Ep: ', i_episode,\n",
    "                      '| Ep_r: ', round(ep_r, 2))\n",
    "        if done:\n",
    "            break \n",
    "        s = s_"
   ]
  },
  {
   "cell_type": "markdown",
   "metadata": {},
   "source": []
  },
  {
   "cell_type": "code",
   "execution_count": null,
   "metadata": {},
   "outputs": [],
   "source": []
  }
 ],
 "metadata": {
  "kernelspec": {
   "display_name": "Python 3.9.12 ('base')",
   "language": "python",
   "name": "python3"
  },
  "language_info": {
   "codemirror_mode": {
    "name": "ipython",
    "version": 3
   },
   "file_extension": ".py",
   "mimetype": "text/x-python",
   "name": "python",
   "nbconvert_exporter": "python",
   "pygments_lexer": "ipython3",
   "version": "3.9.12"
  },
  "orig_nbformat": 4,
  "vscode": {
   "interpreter": {
    "hash": "841e27f2a14d44ccd92f4291012cb59f687474acc5b2dafa531afbd4ea5b7136"
   }
  }
 },
 "nbformat": 4,
 "nbformat_minor": 2
}
